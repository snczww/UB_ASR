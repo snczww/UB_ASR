{
 "cells": [
  {
   "cell_type": "markdown",
   "metadata": {},
   "source": [
    "### Punctuation\n",
    "- period (.) question mark (?) or exclamation point (!)\n",
    "- Trailing Off +...\n",
    "- Interruption +/.\n",
    "```\n",
    "*EXP: what did you do +/.\n",
    "*CHI: mommy .\n",
    "*EXP: +, with your spoon .\n",
    "```\n",
    "- Self Interruption +//.\n"
   ]
  },
  {
   "cell_type": "markdown",
   "metadata": {},
   "source": [
    "- Retracing Without Correction [/] (also in fluency codes, Appendix 7)\n",
    "\n",
    "the material being retraced is enclosed in angle\n",
    "brackets. In a retracing without correction, it is necessarily the case that the material in angle\n",
    "brackets is the same as the material immediately following the [/] symbol.\n",
    "```\n",
    "*CHI: <I wanted> [/] I wanted to invite Margie .\n",
    "```\n"
   ]
  },
  {
   "cell_type": "code",
   "execution_count": 47,
   "metadata": {},
   "outputs": [
    {
     "name": "stdout",
     "output_type": "stream",
     "text": [
      "Retracing with brackets:\n",
      "<I wanted> [/]\n",
      "<I wanted> [//]\n",
      "<the fish is> [//]\n",
      "<it was> [//]\n"
     ]
    }
   ],
   "source": [
    "import re\n",
    "\n",
    "def find_retracing_markers(text):\n",
    "    # Define patterns for different types of retracing markers\n",
    "    retracing_with_brackets_pattern = r'(<[^>]+> \\[//\\])|(<[^>]+> \\[/\\])'\n",
    "    retracing_single_word_pattern = r'(\\b\\w+\\b \\[/\\])'\n",
    "    retracing_with_fillers_pattern = r'(<[^>]+> \\[/\\] \\(.*?\\) &-[a-z]+ \\[.*?\\])'\n",
    "\n",
    "    # Finding all occurrences of each pattern\n",
    "    retracing_with_brackets_matches = re.findall(retracing_with_brackets_pattern, text)\n",
    "    retracing_single_word_matches = re.findall(retracing_single_word_pattern, text)\n",
    "    retracing_with_fillers_matches = re.findall(retracing_with_fillers_pattern, text)\n",
    "\n",
    "    # Extract only the matched group that is not empty (re.findall with multiple groups can return tuples with empty strings)\n",
    "    retracing_with_brackets_matches = [match[0] if match[0] else match[1] for match in retracing_with_brackets_matches]\n",
    "\n",
    "    # Display the results\n",
    "    print('Retracing with brackets:')\n",
    "    for match in retracing_with_brackets_matches:\n",
    "        print(match)\n",
    "    # print('\\nSingle word retracing:')\n",
    "    # for match in retracing_single_word_matches:\n",
    "    #     print(match)\n",
    "    # print('\\nRetracing with fillers:')\n",
    "    # for match in retracing_with_fillers_matches:\n",
    "    #     print(match)\n",
    "\n",
    "# Example transcript text\n",
    "transcript_text = \"\"\"\n",
    "*CHI: <I wanted> [/] I wanted to invite Margie .\n",
    "*CHI: it's [/] (.) &-um (.) it's [/] it's (.) a &-um (.) dog .\n",
    "*CHI: apple [/] apple is good.\n",
    "*CHI: <I wanted> [//] &-uh I thought I wanted to invite Margie .\n",
    "*CHI: <the fish is> [//] the [/] the fish are swimming .\n",
    "*CHI: <it was> [//] it is a sunny day. \n",
    "\"\"\"\n",
    "\n",
    "# Find retracing markers in the transcript\n",
    "find_retracing_markers(transcript_text)"
   ]
  },
  {
   "cell_type": "markdown",
   "metadata": {},
   "source": [
    "- Retracing with Correction [//]\n"
   ]
  },
  {
   "cell_type": "code",
   "execution_count": 50,
   "metadata": {},
   "outputs": [
    {
     "name": "stdout",
     "output_type": "stream",
     "text": [
      "Bracketed phrases:\n",
      "<I wanted>\n",
      "<the fish is>\n",
      "<it was>\n"
     ]
    }
   ],
   "source": [
    "import re\n",
    "\n",
    "def find_bracketed_phrases(text):\n",
    "    # Define the pattern to match phrases inside <>\n",
    "    bracketed_pattern = r'<[^>]+>'\n",
    "\n",
    "    # Find all occurrences of the pattern\n",
    "    matches = re.findall(bracketed_pattern, text)\n",
    "\n",
    "    # Display the results\n",
    "    print('Bracketed phrases:')\n",
    "    for match in matches:\n",
    "        print(match)\n",
    "\n",
    "# Example transcript text\n",
    "transcript_text = \"\"\"\n",
    "*CHI: <I wanted> [//] &-uh I thought I wanted to invite Margie .\n",
    "*CHI: <the fish is> [//] the [/] the fish are swimming .\n",
    "*CHI: <it was> [//] it is a sunny day. \n",
    "\"\"\"\n",
    "\n",
    "# Find bracketed phrases in the transcript\n",
    "find_bracketed_phrases(transcript_text)"
   ]
  },
  {
   "cell_type": "markdown",
   "metadata": {},
   "source": [
    "all symbols\n",
    "```\n",
    "(.)\n",
    "(?)\n",
    "(!)\n",
    "+...\n",
    "+/.\n",
    "+//.\n",
    "[/]\n",
    "[//]\n",
    "```\n"
   ]
  },
  {
   "cell_type": "markdown",
   "metadata": {},
   "source": [
    "### Overlaps\n",
    "- Interposed word &*\n"
   ]
  },
  {
   "cell_type": "code",
   "execution_count": 36,
   "metadata": {},
   "outputs": [
    {
     "name": "stdout",
     "output_type": "stream",
     "text": [
      "Interposed words:\n",
      "&*INV:mhm\n",
      "&*MOT:yeah\n",
      "&*PAR:uh\n"
     ]
    }
   ],
   "source": [
    "import re\n",
    "\n",
    "def find_interposed_words(text):\n",
    "    # Define the pattern for interposed words\n",
    "    interposed_pattern = r'&\\*[A-Z]{3}:[a-zA-Z]+'\n",
    "\n",
    "    # Find all occurrences of the pattern\n",
    "    matches = re.findall(interposed_pattern, text)\n",
    "\n",
    "    # Display the results\n",
    "    print('Interposed words:')\n",
    "    for match in matches:\n",
    "        print(match)\n",
    "\n",
    "# Example transcript text\n",
    "transcript_text = \"\"\"\n",
    "*PAR: it was really difficult &*INV:mhm when all of that was happening.\n",
    "*CHI: I think &*MOT:yeah that it's a good idea.\n",
    "*EXP: This is interesting &*PAR:uh-huh but could you explain more?\n",
    "\"\"\"\n",
    "\n",
    "# Find interposed words in the transcript\n",
    "find_interposed_words(transcript_text)"
   ]
  },
  {
   "cell_type": "markdown",
   "metadata": {},
   "source": [
    "- Lazy overlap +<\n",
    "- Overlap follows [>]\n"
   ]
  },
  {
   "cell_type": "code",
   "execution_count": 45,
   "metadata": {},
   "outputs": [
    {
     "name": "stdout",
     "output_type": "stream",
     "text": [
      "Overlap follows markers:\n",
      "<with her> [>]\n",
      "<it was very> [>]\n",
      "\n",
      "Overlap precedes markers:\n",
      "<I just kept talking> [<]\n",
      "<I thought> [<]\n"
     ]
    }
   ],
   "source": [
    "import re\n",
    "\n",
    "def find_overlap_markers(text):\n",
    "    # Define the patterns for overlap markers with content restricted to letters\n",
    "    overlap_follows_pattern = r'<[a-zA-Z ]+> \\[>\\]'\n",
    "    overlap_precedes_pattern = r'<[a-zA-Z ]+> \\[<\\]'\n",
    "\n",
    "    # Find all occurrences of each pattern\n",
    "    overlap_follows_matches = re.findall(overlap_follows_pattern, text)\n",
    "    overlap_precedes_matches = re.findall(overlap_precedes_pattern, text)\n",
    "\n",
    "    # Display the results\n",
    "    print('Overlap follows markers:')\n",
    "    for match in overlap_follows_matches:\n",
    "        print(match)\n",
    "    \n",
    "    print('\\nOverlap precedes markers:')\n",
    "    for match in overlap_precedes_matches:\n",
    "        print(match)\n",
    "\n",
    "# Example transcript text\n",
    "transcript_text = \"\"\"\n",
    "*INV: how did you communicate <with her> [>] ?\n",
    "*PAR: <I just kept talking> [<] .\n",
    "*CHI: <it was very> [>] interesting.\n",
    "*EXP: <I thought> [<] it was too.\n",
    "\"\"\"\n",
    "\n",
    "# Find overlap markers in the transcript\n",
    "find_overlap_markers(transcript_text)\n"
   ]
  },
  {
   "cell_type": "markdown",
   "metadata": {},
   "source": [
    "all symbols\n",
    "```\n",
    "+<\n",
    "```\n"
   ]
  },
  {
   "cell_type": "markdown",
   "metadata": {},
   "source": [
    "### FLUENCY codes\n",
    "- Unfilled pauses\n",
    "\n",
    "```\n",
    "(.)\n",
    "(..)\n",
    "(...)\n",
    "```\n",
    "- Filled pauses\n"
   ]
  },
  {
   "cell_type": "code",
   "execution_count": 26,
   "metadata": {},
   "outputs": [
    {
     "name": "stdout",
     "output_type": "stream",
     "text": [
      "Fillers:\n",
      "&-um\n",
      "&-you_know\n",
      "&-stuff\n",
      "&-like\n",
      "&-you_know\n",
      "&-um\n"
     ]
    }
   ],
   "source": [
    "import re\n",
    "\n",
    "def find_fillers(text):\n",
    "    # Define the pattern for fillers marked with &-\n",
    "    fillers_pattern = r'&-[a-zA-Z_]+'\n",
    "\n",
    "    # Find all occurrences of the pattern\n",
    "    matches = re.findall(fillers_pattern, text)\n",
    "\n",
    "    # Display the results\n",
    "    print('Fillers:')\n",
    "    for match in matches:\n",
    "        print(match)\n",
    "\n",
    "# Example transcript text\n",
    "transcript_text = \"\"\"\n",
    "*CHI: I was like &-um going to the store &-you_know to buy some &-stuff.\n",
    "*INV: So, &-like, what do you think about that?\n",
    "*PAR: Well, &-you_know, it's kind of &-um complicated.\n",
    "\"\"\"\n",
    "\n",
    "# Find fillers in the transcript\n",
    "find_fillers(transcript_text)"
   ]
  },
  {
   "cell_type": "markdown",
   "metadata": {},
   "source": [
    "- Quotation on Next Line +”/.\n",
    "- Quotation Precedes +”\n"
   ]
  },
  {
   "cell_type": "code",
   "execution_count": 49,
   "metadata": {},
   "outputs": [
    {
     "name": "stdout",
     "output_type": "stream",
     "text": [
      "\n",
      "Single quoted words:\n",
      "shh@q\n"
     ]
    }
   ],
   "source": [
    "import re\n",
    "\n",
    "def find_quotation_markers(text):\n",
    "    # Define the pattern for \"Quotation Precedes\" and single quoted words\n",
    "    quotation_precedes_pattern = r'\\+\\”[^.]*'\n",
    "    single_quoted_words_pattern = r'\\b\\w+@q\\b'\n",
    "\n",
    "    # Find all occurrences of each pattern\n",
    "    quotation_precedes_matches = re.findall(quotation_precedes_pattern, text)\n",
    "    single_quoted_words_matches = re.findall(single_quoted_words_pattern, text)\n",
    "\n",
    "    # Display the results\n",
    "    # print('Quotation Precedes markers:')\n",
    "    # for match in quotation_precedes_matches:\n",
    "    #     print(match)\n",
    "    \n",
    "    print('\\nSingle quoted words:')\n",
    "    for match in single_quoted_words_matches:\n",
    "        print(match)\n",
    "\n",
    "# Example transcript text\n",
    "transcript_text = \"\"\"\n",
    "*CHI: +” please give me all of your honey .\n",
    "*CHI: the little bear said +”.\n",
    "*CHI: and the boy said shh@q .\n",
    "\"\"\"\n",
    "\n",
    "# Find quotation markers in the transcript\n",
    "find_quotation_markers(transcript_text)"
   ]
  },
  {
   "cell_type": "markdown",
   "metadata": {},
   "source": [
    "- Multiple words that should hang together\n"
   ]
  },
  {
   "cell_type": "code",
   "execution_count": 28,
   "metadata": {},
   "outputs": [
    {
     "name": "stdout",
     "output_type": "stream",
     "text": [
      "Frozen phrases:\n",
      "you_know\n",
      "patty_cake\n",
      "Nan_Bernstein_Ratner\n",
      "Mister_Spock\n",
      "merry_go_round\n"
     ]
    }
   ],
   "source": [
    "import re\n",
    "\n",
    "def find_frozen_phrases(text):\n",
    "    # Define the pattern for frozen phrases linked with underscores\n",
    "    frozen_phrases_pattern = r'\\b\\w+(?:_\\w+)+\\b'\n",
    "\n",
    "    # Find all occurrences of the pattern\n",
    "    matches = re.findall(frozen_phrases_pattern, text)\n",
    "\n",
    "    # Display the results\n",
    "    print('Frozen phrases:')\n",
    "    for match in matches:\n",
    "        print(match)\n",
    "\n",
    "# Example transcript text\n",
    "transcript_text = \"\"\"\n",
    "*CHI: I think you_know that patty_cake is a fun game.\n",
    "*INV: What do you think about Nan_Bernstein_Ratner's work?\n",
    "*PAR: Well, Mister_Spock was a character in Star Trek.\n",
    "*CHI: We went to the merry_go_round yesterday.\n",
    "\"\"\"\n",
    "\n",
    "# Find frozen phrases in the transcript\n",
    "find_frozen_phrases(transcript_text)"
   ]
  },
  {
   "cell_type": "markdown",
   "metadata": {},
   "source": [
    "- Other Coding Conventions: ERRORS!\n"
   ]
  },
  {
   "cell_type": "code",
   "execution_count": 29,
   "metadata": {},
   "outputs": [
    {
     "name": "stdout",
     "output_type": "stream",
     "text": [
      "\n",
      "Target Replacements:\n",
      "[: mice]\n"
     ]
    }
   ],
   "source": [
    "import re\n",
    "\n",
    "def find_errors_and_replacements(text):\n",
    "    # Define the patterns for errors and target replacements\n",
    "    error_pattern = r'\\[\\*\\]'\n",
    "    replacement_pattern = r'\\[: [^\\]]+\\]'\n",
    "\n",
    "    # Find all occurrences of each pattern\n",
    "    error_matches = re.findall(error_pattern, text)\n",
    "    replacement_matches = re.findall(replacement_pattern, text)\n",
    "\n",
    "    # Display the results\n",
    "    # print('Errors:')\n",
    "    # for match in error_matches:\n",
    "    #     print(match)\n",
    "    \n",
    "    print('\\nTarget Replacements:')\n",
    "    for match in replacement_matches:\n",
    "        print(match)\n",
    "\n",
    "# Example transcript text\n",
    "transcript_text = \"\"\"\n",
    "*CHI: he had two mouses [: mice] [*] .\n",
    "*CHI: two cookie [*].\n",
    "*CHI: to [*] home.\n",
    "*CHI: he going to the store.\n",
    "\"\"\"\n",
    "\n",
    "# Find errors and replacements in the transcript\n",
    "find_errors_and_replacements(transcript_text)"
   ]
  },
  {
   "cell_type": "markdown",
   "metadata": {},
   "source": [
    "- Missing words: 0\n"
   ]
  },
  {
   "cell_type": "code",
   "execution_count": 30,
   "metadata": {},
   "outputs": [
    {
     "name": "stdout",
     "output_type": "stream",
     "text": [
      "Omitted words:\n",
      "0does\n",
      "0mod\n",
      "0is\n",
      "0has\n"
     ]
    }
   ],
   "source": [
    "import re\n",
    "\n",
    "def find_omitted_words(text):\n",
    "    # Define the pattern for omitted words marked with the zero symbol\n",
    "    omitted_word_pattern = r'\\b0\\w+\\b'\n",
    "\n",
    "    # Find all occurrences of the pattern\n",
    "    matches = re.findall(omitted_word_pattern, text)\n",
    "\n",
    "    # Display the results\n",
    "    print('Omitted words:')\n",
    "    for match in matches:\n",
    "        print(match)\n",
    "\n",
    "# Example transcript text\n",
    "transcript_text = \"\"\"\n",
    "*CHI: 0does he like it?\n",
    "*PAR: 0mod he like it?\n",
    "*CHI: 0is she going?\n",
    "*PAR: 0has he done it?\n",
    "\"\"\"\n",
    "\n",
    "# Find omitted words in the transcript\n",
    "find_omitted_words(transcript_text)"
   ]
  },
  {
   "cell_type": "markdown",
   "metadata": {},
   "source": [
    "- Phonological Fragments &+fr\n"
   ]
  },
  {
   "cell_type": "code",
   "execution_count": 31,
   "metadata": {},
   "outputs": [
    {
     "name": "stdout",
     "output_type": "stream",
     "text": [
      "Word fragments:\n",
      "&+fr\n",
      "&+vi\n",
      "&+un\n"
     ]
    }
   ],
   "source": [
    "import re\n",
    "\n",
    "def find_word_fragments(text):\n",
    "    # Define the pattern for word fragments marked with &+\n",
    "    word_fragment_pattern = r'&\\+\\w+'\n",
    "\n",
    "    # Find all occurrences of the pattern\n",
    "    matches = re.findall(word_fragment_pattern, text)\n",
    "\n",
    "    # Display the results\n",
    "    print('Word fragments:')\n",
    "    for match in matches:\n",
    "        print(match)\n",
    "\n",
    "# Example transcript text\n",
    "transcript_text = \"\"\"\n",
    "*CHI: he had a &+fr friend.\n",
    "*CHI: I really wanted to &+vi visit the zoo.\n",
    "*CHI: she is &+un unbelievable.\n",
    "\"\"\"\n",
    "\n",
    "# Find word fragments in the transcript\n",
    "find_word_fragments(transcript_text)"
   ]
  },
  {
   "cell_type": "markdown",
   "metadata": {},
   "source": [
    "- Unintelligible words xxx\n",
    "- Pauses (.)\n",
    "- Babbling and Jargon (from kids or patients)\n"
   ]
  },
  {
   "cell_type": "code",
   "execution_count": 32,
   "metadata": {},
   "outputs": [
    {
     "name": "stdout",
     "output_type": "stream",
     "text": [
      "Annotations:\n",
      "[=! dada]\n",
      "[=! vocalizes/laughs/whines, etc]\n"
     ]
    }
   ],
   "source": [
    "import re\n",
    "\n",
    "def find_annotations(text):\n",
    "    # Define the pattern to match annotations [=! ...] following yyy or xxx\n",
    "    annotation_pattern = r'\\b(?:yyy|xxx)\\b \\[=! [^\\]]+\\]'\n",
    "\n",
    "    # Find all occurrences of the pattern\n",
    "    matches = re.findall(annotation_pattern, text)\n",
    "\n",
    "    # Extract and display the annotations\n",
    "    print('Annotations:')\n",
    "    for match in matches:\n",
    "        # Extract the [=! ...] part\n",
    "        annotation = re.search(r'\\[=! [^\\]]+\\]', match).group()\n",
    "        print(annotation)\n",
    "\n",
    "# Example transcript text\n",
    "transcript_text = \"\"\"\n",
    "*CHI: yyy [=! dada] .\n",
    "*CHI: xxx [=! vocalizes/laughs/whines, etc] .\n",
    "*PAR: I probably got xxx and things like that .\n",
    "\"\"\"\n",
    "\n",
    "# Find annotations in the transcript\n",
    "find_annotations(transcript_text)"
   ]
  },
  {
   "cell_type": "markdown",
   "metadata": {},
   "source": [
    "- Tables for Other Communicative Behaviors and Words\n",
    "\n",
    "- Excluding utterances from analysis\n",
    "\n",
    "all symbols\n",
    "```\n",
    "+”/.\n",
    "+”\n",
    "[*]\n",
    "xxx\n",
    "yyy\n",
    "(.)\n",
    "[+ exc]\n",
    "```"
   ]
  },
  {
   "cell_type": "markdown",
   "metadata": {},
   "source": [
    "Shortened Words"
   ]
  },
  {
   "cell_type": "code",
   "execution_count": 59,
   "metadata": {},
   "outputs": [
    {
     "name": "stdout",
     "output_type": "stream",
     "text": [
      "['(a)bout', '(h)is', '(re)frigerator', 'an(d)', '(e)nough', '(h)isself', '(re)member', 'sec(ond)', '(a)fraid', '(e)spresso', 'nothin(g)', 's(up)pose', '(a)gain', '(es)presso', '(i)n', '(th)e', '(a)nother', '(ex)cept', '(in)stead', '(th)em', '(a)round', '(ex)cuse', 'Jag(uar)', '(th)emselves', 'ave(nue)', '(ex)cused', 'lib(r)ary', '(th)ere', '(a)way', '(e)xcuse', 'Mass(achusetts)', '(th)ese', '(be)cause', '(e)xcused', 'micro(phone)', '(th)ey', '(be)fore', '(h)e', '(pa)jamas', '(to)gether', '(be)hind', '(h)er', '(o)k', '(to)mato', 'b(e)long', '(h)ere', 'o(v)er', '(to)morrow', 'b(e)longs', '(h)erself', '(po)tato', '(to)night', 'Cad(illac)', 'doc(tor)', '(h)im', '(h)imself', 'prob(ab)ly', '(re)corder', '(un)til', 'wan(t)']\n"
     ]
    }
   ],
   "source": [
    "import re\n",
    "\n",
    "c c\n",
    "\n",
    "# 示例文本\n",
    "transcript_text = \"\"\"\n",
    "(a)bout don('t) (h)is (re)frigerator\n",
    "an(d) (e)nough (h)isself (re)member\n",
    "(a)n(d) (e)spress(o) -in(g) sec(ond)\n",
    "(a)fraid (e)spresso nothin(g) s(up)pose\n",
    "(a)gain (es)presso (i)n (th)e\n",
    "(a)nother (ex)cept (in)stead (th)em\n",
    "(a)round (ex)cuse Jag(uar) (th)emselves\n",
    "ave(nue) (ex)cused lib(r)ary (th)ere\n",
    "(a)way (e)xcuse Mass(achusetts) (th)ese\n",
    "(be)cause (e)xcused micro(phone) (th)ey\n",
    "(be)fore (h)e (pa)jamas (to)gether\n",
    "(be)hind (h)er (o)k (to)mato\n",
    "b(e)long (h)ere o(v)er (to)morrow\n",
    "b(e)longs (h)erself (po)tato (to)night\n",
    "Cad(illac) doc(tor) (h)im (h)imself prob(ab)ly (re)corder (un)til\n",
    "wan(t)\n",
    "\"\"\"\n",
    "\n",
    "# 运行函数以找到缩写单词并打印结果\n",
    "shortened_words = find_shortened_words(transcript_text)\n",
    "print(shortened_words)\n"
   ]
  },
  {
   "cell_type": "markdown",
   "metadata": {},
   "source": [
    "~~## Simple Events (not required [could replace to same words])~~\n"
   ]
  },
  {
   "cell_type": "code",
   "execution_count": 33,
   "metadata": {},
   "outputs": [
    {
     "name": "stdout",
     "output_type": "stream",
     "text": [
      "Non-verbal activities:\n",
      "\n",
      "\n",
      "\n",
      ":plane\n",
      ":frustration\n",
      ":doll\n",
      ":pictures\n",
      ":picture\n",
      ":mouth\n"
     ]
    }
   ],
   "source": [
    "import re\n",
    "\n",
    "def find_nonverbal_activities(text):\n",
    "    # Define the pattern for non-verbal activities marked with &=\n",
    "    nonverbal_pattern = r'&=\\w+(:\\w+)?'\n",
    "\n",
    "    # Find all occurrences of the pattern\n",
    "    matches = re.findall(nonverbal_pattern, text)\n",
    "\n",
    "    # Display the results\n",
    "    print('Non-verbal activities:')\n",
    "    for match in matches:\n",
    "        print(match)\n",
    "\n",
    "# Example transcript text\n",
    "transcript_text = \"\"\"\n",
    "*CHI: he had a &+fr friend.\n",
    "*CHI: I really wanted to &+vi visit the zoo.\n",
    "*CHI: she is &+un unbelievable.\n",
    "*CHI: &=moans loudly.\n",
    "*CHI: &=laughs and &=coughs.\n",
    "*CHI: makes a noise &=imit:plane.\n",
    "*CHI: gestures with frustration &=ges:frustration.\n",
    "*CHI: moves the doll &=moves:doll.\n",
    "*CHI: shows pictures &=shows:pictures.\n",
    "*CHI: points to the picture &=points:picture.\n",
    "*CHI: opens mouth &=opens:mouth.\n",
    "\"\"\"\n",
    "\n",
    "# Find non-verbal activities in the transcript\n",
    "find_nonverbal_activities(transcript_text)"
   ]
  },
  {
   "cell_type": "markdown",
   "metadata": {},
   "source": [
    "cheating codes match all []"
   ]
  },
  {
   "cell_type": "code",
   "execution_count": 62,
   "metadata": {},
   "outputs": [
    {
     "name": "stdout",
     "output_type": "stream",
     "text": [
      "['[: gonna]', '[//]', '[//]', '[: has got]']\n"
     ]
    }
   ],
   "source": [
    "import re\n",
    "\n",
    "def find_bracketed_content(text):\n",
    "    # Regular expression to match content inside square brackets, specifically in the form [: ...]\n",
    "    bracketed_pattern = r'\\[.*?\\]'\n",
    "    \n",
    "    # Find all matches in the text\n",
    "    matches = re.findall(bracketed_pattern, text)\n",
    "    \n",
    "    return matches\n",
    "\n",
    "# Example text\n",
    "text = \"\"\"\n",
    "now (.) there (i)s a girl there (.) a girl elephant with a net that (i)s going to [: gonna] grab it.\n",
    "\n",
    "and now the elephant fell and (.) <stub> [//] <made> [//] gots [: has got] a boo_boo on her knee.\n",
    "\"\"\"\n",
    "\n",
    "# Call the function and print the results\n",
    "bracketed_content = find_bracketed_content(text)\n",
    "print(bracketed_content)\n"
   ]
  },
  {
   "cell_type": "markdown",
   "metadata": {},
   "source": [
    "gather symbols\n",
    "```\n",
    "(.)\n",
    "(?)\n",
    "(!)\n",
    "+...\n",
    "+/.\n",
    "+//.\n",
    "[/]\n",
    "[//]\n",
    "+<\n",
    "+”/.\n",
    "+”\n",
    "[*]\n",
    "xxx\n",
    "yyy\n",
    "(.)\n",
    "[+ exc]\n",
    "```"
   ]
  },
  {
   "cell_type": "code",
   "execution_count": 51,
   "metadata": {},
   "outputs": [
    {
     "name": "stdout",
     "output_type": "stream",
     "text": [
      "['0is', '<I just kept talking> [<]', '0mod', 'patty_cake', '&-you_know', 'shh@q', '+”', ':mouth', '0does', 'Mister_Spock', '[: mice]', '[=! vocalizes/laughs/whines, etc]', '&+vi', '&*INV:mhm', ':plane', '<I wanted> [//]', '<I wanted> [/]', '+” please give me all of your honey ', '0has', '&*MOT:yeah', '&-uh', '[=! dada]', '&+fr', '<with her> [>]', '&-stuff', 's [/]', '&+un', '<it was> [//]', 'Nan_Bernstein_Ratner', 'apple [/]', '&-um', 'the [/]', '<it was very> [>]', '<the fish is> [//]', ':picture', '&*PAR:uh', ':pictures', '&-like', '[*]', ':frustration', ':doll', '<I thought> [<]', 'merry_go_round', 'you_know']\n"
     ]
    }
   ],
   "source": [
    "import re\n",
    "\n",
    "def find_retracing_markers(text):\n",
    "    retracing_with_brackets_pattern = r'(<[^>]+> \\[//\\])|(<[^>]+> \\[/\\])'\n",
    "    retracing_single_word_pattern = r'(\\b\\w+\\b \\[/\\])'\n",
    "    retracing_with_fillers_pattern = r'(<[^>]+> \\[/\\] \\(.*?\\) &-[a-z]+ \\[.*?\\])'\n",
    "\n",
    "    retracing_with_brackets_matches = re.findall(retracing_with_brackets_pattern, text)\n",
    "    retracing_single_word_matches = re.findall(retracing_single_word_pattern, text)\n",
    "    retracing_with_fillers_matches = re.findall(retracing_with_fillers_pattern, text)\n",
    "\n",
    "    retracing_with_brackets_matches = [match[0] if match[0] else match[1] for match in retracing_with_brackets_matches]\n",
    "\n",
    "    return retracing_with_brackets_matches + retracing_single_word_matches + retracing_with_fillers_matches\n",
    "\n",
    "def find_interposed_words(text):\n",
    "    interposed_pattern = r'&\\*[A-Z]{3}:[a-zA-Z]+'\n",
    "    matches = re.findall(interposed_pattern, text)\n",
    "    return matches\n",
    "\n",
    "def find_overlap_markers(text):\n",
    "    overlap_follows_pattern = r'<[a-zA-Z ]+> \\[>\\]'\n",
    "    overlap_precedes_pattern = r'<[a-zA-Z ]+> \\[<\\]'\n",
    "    overlap_follows_matches = re.findall(overlap_follows_pattern, text)\n",
    "    overlap_precedes_matches = re.findall(overlap_precedes_pattern, text)\n",
    "    return overlap_follows_matches + overlap_precedes_matches\n",
    "\n",
    "def find_fillers(text):\n",
    "    fillers_pattern = r'&-[a-zA-Z_]+'\n",
    "    matches = re.findall(fillers_pattern, text)\n",
    "    return matches\n",
    "\n",
    "def find_quotation_markers(text):\n",
    "    quotation_precedes_pattern = r'\\+\\”[^.]*'\n",
    "    single_quoted_words_pattern = r'\\b\\w+@q\\b'\n",
    "    quotation_precedes_matches = re.findall(quotation_precedes_pattern, text)\n",
    "    single_quoted_words_matches = re.findall(single_quoted_words_pattern, text)\n",
    "    return quotation_precedes_matches + single_quoted_words_matches\n",
    "\n",
    "def find_frozen_phrases(text):\n",
    "    frozen_phrases_pattern = r'\\b\\w+(?:_\\w+)+\\b'\n",
    "    matches = re.findall(frozen_phrases_pattern, text)\n",
    "    return matches\n",
    "\n",
    "def find_errors_and_replacements(text):\n",
    "    error_pattern = r'\\[\\*\\]'\n",
    "    replacement_pattern = r'\\[: [^\\]]+\\]'\n",
    "    error_matches = re.findall(error_pattern, text)\n",
    "    replacement_matches = re.findall(replacement_pattern, text)\n",
    "    return error_matches + replacement_matches\n",
    "\n",
    "def find_omitted_words(text):\n",
    "    omitted_word_pattern = r'\\b0\\w+\\b'\n",
    "    matches = re.findall(omitted_word_pattern, text)\n",
    "    return matches\n",
    "\n",
    "def find_word_fragments(text):\n",
    "    word_fragment_pattern = r'&\\+\\w+'\n",
    "    matches = re.findall(word_fragment_pattern, text)\n",
    "    return matches\n",
    "\n",
    "def find_annotations(text):\n",
    "    annotation_pattern = r'\\b(?:yyy|xxx)\\b \\[=! [^\\]]+\\]'\n",
    "    matches = re.findall(annotation_pattern, text)\n",
    "    annotations = [re.search(r'\\[=! [^\\]]+\\]', match).group() for match in matches]\n",
    "    return annotations\n",
    "\n",
    "def find_nonverbal_activities(text):\n",
    "    nonverbal_pattern = r'&=\\w+(:\\w+)?'\n",
    "    matches = re.findall(nonverbal_pattern, text)\n",
    "    return matches\n",
    "\n",
    "def collect_all_matches(text):\n",
    "    all_matches = []\n",
    "    all_matches += find_retracing_markers(text)\n",
    "    all_matches += find_interposed_words(text)\n",
    "    all_matches += find_overlap_markers(text)\n",
    "    all_matches += find_fillers(text)\n",
    "    all_matches += find_quotation_markers(text)\n",
    "    all_matches += find_frozen_phrases(text)\n",
    "    all_matches += find_errors_and_replacements(text)\n",
    "    all_matches += find_omitted_words(text)\n",
    "    all_matches += find_word_fragments(text)\n",
    "    all_matches += find_annotations(text)\n",
    "    all_matches += find_nonverbal_activities(text)\n",
    "\n",
    "    # Remove duplicates and empty values\n",
    "    all_matches = list(set(filter(None, all_matches)))\n",
    "    return all_matches\n",
    "\n",
    "# Example transcript text\n",
    "transcript_text = \"\"\"\n",
    "*CHI: <I wanted> [/] I wanted to invite Margie .\n",
    "*CHI: it's [/] (.) &-um (.) it's [/] it's (.) a &-um (.) dog .\n",
    "*CHI: apple [/] apple is good.\n",
    "*CHI: <I wanted> [//] &-uh I thought I wanted to invite Margie .\n",
    "*CHI: <the fish is> [//] the [/] the fish are swimming .\n",
    "*CHI: <it was> [//] it is a sunny day.\n",
    "*INV: how did you communicate <with her> [>] ?\n",
    "*PAR: <I just kept talking> [<] .\n",
    "*CHI: <it was very> [>] interesting.\n",
    "*EXP: <I thought> [<] it was too.\n",
    "*PAR: it was really difficult &*INV:mhm when all of that was happening.\n",
    "*CHI: I think &*MOT:yeah that it's a good idea.\n",
    "*EXP: This is interesting &*PAR:uh-huh but could you explain more?\n",
    "*CHI: I was like &-um going to the store &-you_know to buy some &-stuff.\n",
    "*INV: So, &-like, what do you think about that?\n",
    "*PAR: Well, &-you_know, it's kind of &-um complicated.\n",
    "*CHI: +” please give me all of your honey .\n",
    "*CHI: the little bear said +”.\n",
    "*CHI: and the boy said shh@q .\n",
    "*CHI: I think you_know that patty_cake is a fun game.\n",
    "*INV: What do you think about Nan_Bernstein_Ratner's work?\n",
    "*PAR: Well, Mister_Spock was a character in Star Trek.\n",
    "*CHI: We went to the merry_go_round yesterday.\n",
    "*CHI: he had two mouses [: mice] [*] .\n",
    "*CHI: two cookie [*].\n",
    "*CHI: to [*] home.\n",
    "*CHI: he going to the store.\n",
    "*CHI: 0does he like it?\n",
    "*PAR: 0mod he like it?\n",
    "*CHI: 0is she going?\n",
    "*PAR: 0has he done it?\n",
    "*CHI: he had a &+fr friend.\n",
    "*CHI: I really wanted to &+vi visit the zoo.\n",
    "*CHI: she is &+un unbelievable.\n",
    "*CHI: yyy [=! dada] .\n",
    "*CHI: xxx [=! vocalizes/laughs/whines, etc] .\n",
    "*PAR: I probably got xxx and things like that .\n",
    "*CHI: &=moans loudly.\n",
    "*CHI: &=laughs and &=coughs.\n",
    "*CHI: makes a noise &=imit:plane.\n",
    "*CHI: gestures with frustration &=ges:frustration.\n",
    "*CHI: moves the doll &=moves:doll.\n",
    "*CHI: shows pictures &=shows:pictures.\n",
    "*CHI: points to the picture &=points:picture.\n",
    "*CHI: opens mouth &=opens:mouth.\n",
    "\"\"\"\n",
    "\n",
    "# Run the function to collect all matches and print the result\n",
    "all_matches = collect_all_matches(transcript_text)\n",
    "print(all_matches)\n"
   ]
  }
 ],
 "metadata": {
  "kernelspec": {
   "display_name": "Python 3 (ipykernel)",
   "language": "python",
   "name": "python3"
  }
 },
 "nbformat": 4,
 "nbformat_minor": 4
}
